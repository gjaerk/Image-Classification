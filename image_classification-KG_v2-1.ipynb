{
 "cells": [
  {
   "cell_type": "markdown",
   "metadata": {
    "collapsed": true
   },
   "source": [
    "# Image Classification\n",
    "In this project, you'll classify images from the [CIFAR-10 dataset](https://www.cs.toronto.edu/~kriz/cifar.html).  The dataset consists of airplanes, dogs, cats, and other objects. You'll preprocess the images, then train a convolutional neural network on all the samples. The images need to be normalized and the labels need to be one-hot encoded.  You'll get to apply what you learned and build a convolutional, max pooling, dropout, and fully connected layers.  At the end, you'll get to see your neural network's predictions on the sample images.\n",
    "## Get the Data\n",
    "Run the following cell to download the [CIFAR-10 dataset for python](https://www.cs.toronto.edu/~kriz/cifar-10-python.tar.gz)."
   ]
  },
  {
   "cell_type": "code",
   "execution_count": 2,
   "metadata": {
    "collapsed": false
   },
   "outputs": [
    {
     "name": "stdout",
     "output_type": "stream",
     "text": [
      "All files found!\n"
     ]
    }
   ],
   "source": [
    "\"\"\"\n",
    "DON'T MODIFY ANYTHING IN THIS CELL THAT IS BELOW THIS LINE\n",
    "\"\"\"\n",
    "from urllib.request import urlretrieve\n",
    "from os.path import isfile, isdir\n",
    "from tqdm import tqdm\n",
    "import problem_unittests as tests\n",
    "import tarfile\n",
    "\n",
    "cifar10_dataset_folder_path = 'cifar-10-batches-py'\n",
    "\n",
    "class DLProgress(tqdm):\n",
    "    last_block = 0\n",
    "\n",
    "    def hook(self, block_num=1, block_size=1, total_size=None):\n",
    "        self.total = total_size\n",
    "        self.update((block_num - self.last_block) * block_size)\n",
    "        self.last_block = block_num\n",
    "\n",
    "if not isfile('cifar-10-python.tar.gz'):\n",
    "    with DLProgress(unit='B', unit_scale=True, miniters=1, desc='CIFAR-10 Dataset') as pbar:\n",
    "        urlretrieve(\n",
    "            'https://www.cs.toronto.edu/~kriz/cifar-10-python.tar.gz',\n",
    "            'cifar-10-python.tar.gz',\n",
    "            pbar.hook)\n",
    "\n",
    "if not isdir(cifar10_dataset_folder_path):\n",
    "    with tarfile.open('cifar-10-python.tar.gz') as tar:\n",
    "        tar.extractall()\n",
    "        tar.close()\n",
    "\n",
    "\n",
    "tests.test_folder_path(cifar10_dataset_folder_path)"
   ]
  },
  {
   "cell_type": "markdown",
   "metadata": {},
   "source": [
    "## Explore the Data\n",
    "The dataset is broken into batches to prevent your machine from running out of memory.  The CIFAR-10 dataset consists of 5 batches, named `data_batch_1`, `data_batch_2`, etc.. Each batch contains the labels and images that are one of the following:\n",
    "* airplane\n",
    "* automobile\n",
    "* bird\n",
    "* cat\n",
    "* deer\n",
    "* dog\n",
    "* frog\n",
    "* horse\n",
    "* ship\n",
    "* truck\n",
    "\n",
    "Understanding a dataset is part of making predictions on the data.  Play around with the code cell below by changing the `batch_id` and `sample_id`. The `batch_id` is the id for a batch (1-5). The `sample_id` is the id for a image and label pair in the batch.\n",
    "\n",
    "Ask yourself \"What are all possible labels?\", \"What is the range of values for the image data?\", \"Are the labels in order or random?\".  Answers to questions like these will help you preprocess the data and end up with better predictions."
   ]
  },
  {
   "cell_type": "code",
   "execution_count": 3,
   "metadata": {
    "collapsed": false
   },
   "outputs": [
    {
     "name": "stdout",
     "output_type": "stream",
     "text": [
      "\n",
      "Stats of batch 2:\n",
      "Samples: 10000\n",
      "Label Counts: {0: 984, 1: 1007, 2: 1010, 3: 995, 4: 1010, 5: 988, 6: 1008, 7: 1026, 8: 987, 9: 985}\n",
      "First 20 Labels: [1, 6, 6, 8, 8, 3, 4, 6, 0, 6, 0, 3, 6, 6, 5, 4, 8, 3, 2, 6]\n",
      "\n",
      "Example of Image 5:\n",
      "Image - Min Value: 3 Max Value: 219\n",
      "Image - Shape: (32, 32, 3)\n",
      "Label - Label Id: 3 Name: cat\n"
     ]
    },
    {
     "data": {
      "image/png": "[encoded data removed]",
      "text/plain": [
       "<matplotlib.figure.Figure at 0x115fb3ac8>"
      ]
     },
     "metadata": {
      "image/png": {
       "height": 250,
       "width": 253
      }
     },
     "output_type": "display_data"
    }
   ],
   "source": [
    "%matplotlib inline\n",
    "%config InlineBackend.figure_format = 'retina'\n",
    "\n",
    "import helper\n",
    "import numpy as np\n",
    "\n",
    "# Explore the dataset\n",
    "batch_id = 2\n",
    "sample_id = 5\n",
    "helper.display_stats(cifar10_dataset_folder_path, batch_id, sample_id)"
   ]
  },
  {
   "cell_type": "markdown",
   "metadata": {},
   "source": [
    "## Implement Preprocess Functions\n",
    "### Normalize\n",
    "In the cell below, implement the `normalize` function to take in image data, `x`, and return it as a normalized Numpy array. The values should be in the range of 0 to 1, inclusive.  The return object should be the same shape as `x`."
   ]
  },
  {
   "cell_type": "code",
   "execution_count": 4,
   "metadata": {
    "collapsed": false
   },
   "outputs": [
    {
     "name": "stdout",
     "output_type": "stream",
     "text": [
      "Tests Passed\n"
     ]
    }
   ],
   "source": [
    "def normalize(x):\n",
    "    \"\"\"\n",
    "    Normalize a list of sample image data in the range of 0 to 1\n",
    "    : x: List of image data.  The image shape is (32, 32, 3)\n",
    "    : return: Numpy array of normalize data\n",
    "    \"\"\"\n",
    "    # TODO: Implement Function\n",
    "    #data = np.array(x / 255)\n",
    "    data = x/255\n",
    "    #data = np.array(x / x.max())\n",
    "\n",
    "    #data = data.reshape((-1,32,32,3)).astype(np.float32)\n",
    "\n",
    "    return data\n",
    "\n",
    "\"\"\"\n",
    "DON'T MODIFY ANYTHING IN THIS CELL THAT IS BELOW THIS LINE\n",
    "\"\"\"\n",
    "tests.test_normalize(normalize)"
   ]
  },
  {
   "cell_type": "markdown",
   "metadata": {},
   "source": [
    "### One-hot encode\n",
    "Just like the previous code cell, you'll be implementing a function for preprocessing.  This time, you'll implement the `one_hot_encode` function. The input, `x`, are a list of labels.  Implement the function to return the list of labels as One-Hot encoded Numpy array.  The possible values for labels are 0 to 9. The one-hot encoding function should return the same encoding for each value between each call to `one_hot_encode`.  Make sure to save the map of encodings outside the function.\n",
    "\n",
    "**Hint:**\n",
    "\n",
    "Look into LabelBinarizer in the preprocessing module of sklearn."
   ]
  },
  {
   "cell_type": "code",
   "execution_count": 5,
   "metadata": {
    "collapsed": false
   },
   "outputs": [
    {
     "name": "stdout",
     "output_type": "stream",
     "text": [
      "Tests Passed\n"
     ]
    }
   ],
   "source": [
    "from sklearn.preprocessing import LabelBinarizer\n",
    "\n",
    "def one_hot_encode(x):\n",
    "    \"\"\"\n",
    "    One hot encode a list of sample labels. Return a one-hot encoded vector for each label.\n",
    "    : x: List of sample Labels\n",
    "    : return: Numpy array of one-hot encoded labels\n",
    "    \"\"\"\n",
    "    # TODO: Implement Function\n",
    "    #x = np.array(x)\n",
    "    labels = range(10)\n",
    "    lb = LabelBinarizer()\n",
    "    lb.fit(labels)\n",
    "    #source:https://stackoverflow.com/questions/29831489/numpy-1-hot-array\n",
    "    data = lb.transform(x)\n",
    "\n",
    "    return data\n",
    "\n",
    "\"\"\"\n",
    "DON'T MODIFY ANYTHING IN THIS CELL THAT IS BELOW THIS LINE\n",
    "\"\"\"\n",
    "tests.test_one_hot_encode(one_hot_encode)"
   ]
  },
  {
   "cell_type": "markdown",
   "metadata": {},
   "source": [
    "### Randomize Data\n",
    "As you saw from exploring the data above, the order of the samples are randomized.  It doesn't hurt to randomize it again, but you don't need to for this dataset."
   ]
  },
  {
   "cell_type": "markdown",
   "metadata": {},
   "source": [
    "## Preprocess all the data and save it\n",
    "Running the code cell below will preprocess all the CIFAR-10 data and save it to file. The code below also uses 10% of the training data for validation."
   ]
  },
  {
   "cell_type": "code",
   "execution_count": 6,
   "metadata": {
    "collapsed": false
   },
   "outputs": [],
   "source": [
    "\"\"\"\n",
    "DON'T MODIFY ANYTHING IN THIS CELL\n",
    "\"\"\"\n",
    "# Preprocess Training, Validation, and Testing Data\n",
    "helper.preprocess_and_save_data(cifar10_dataset_folder_path, normalize, one_hot_encode)"
   ]
  },
  {
   "cell_type": "markdown",
   "metadata": {},
   "source": [
    "# Check Point\n",
    "This is your first checkpoint.  If you ever decide to come back to this notebook or have to restart the notebook, you can start from here.  The preprocessed data has been saved to disk."
   ]
  },
  {
   "cell_type": "code",
   "execution_count": 7,
   "metadata": {
    "collapsed": true
   },
   "outputs": [],
   "source": [
    "\"\"\"\n",
    "DON'T MODIFY ANYTHING IN THIS CELL\n",
    "\"\"\"\n",
    "import pickle\n",
    "import problem_unittests as tests\n",
    "import helper\n",
    "\n",
    "# Load the Preprocessed Validation data\n",
    "valid_features, valid_labels = pickle.load(open('preprocess_validation.p', mode='rb'))"
   ]
  },
  {
   "cell_type": "markdown",
   "metadata": {},
   "source": [
    "## Build the network\n",
    "For the neural network, you'll build each layer into a function.  Most of the code you've seen has been outside of functions. To test your code more thoroughly, we require that you put each layer in a function.  This allows us to give you better feedback and test for simple mistakes using our unittests before you submit your project.\n",
    "\n",
    ">**Note:** If you're finding it hard to dedicate enough time for this course each week, we've provided a small shortcut to this part of the project. In the next couple of problems, you'll have the option to use classes from the [TensorFlow Layers](https://www.tensorflow.org/api_docs/python/tf/layers) or [TensorFlow Layers (contrib)](https://www.tensorflow.org/api_guides/python/contrib.layers) packages to build each layer, except the layers you build in the \"Convolutional and Max Pooling Layer\" section.  TF Layers is similar to Keras's and TFLearn's abstraction to layers, so it's easy to pickup.\n",
    "\n",
    ">However, if you would like to get the most out of this course, try to solve all the problems _without_ using anything from the TF Layers packages. You **can** still use classes from other packages that happen to have the same name as ones you find in TF Layers! For example, instead of using the TF Layers version of the `conv2d` class, [tf.layers.conv2d](https://www.tensorflow.org/api_docs/python/tf/layers/conv2d), you would want to use the TF Neural Network version of `conv2d`, [tf.nn.conv2d](https://www.tensorflow.org/api_docs/python/tf/nn/conv2d). \n",
    "\n",
    "Let's begin!\n",
    "\n",
    "### Input\n",
    "The neural network needs to read the image data, one-hot encoded labels, and dropout keep probability. Implement the following functions\n",
    "* Implement `neural_net_image_input`\n",
    " * Return a [TF Placeholder](https://www.tensorflow.org/api_docs/python/tf/placeholder)\n",
    " * Set the shape using `image_shape` with batch size set to `None`.\n",
    " * Name the TensorFlow placeholder \"x\" using the TensorFlow `name` parameter in the [TF Placeholder](https://www.tensorflow.org/api_docs/python/tf/placeholder).\n",
    "* Implement `neural_net_label_input`\n",
    " * Return a [TF Placeholder](https://www.tensorflow.org/api_docs/python/tf/placeholder)\n",
    " * Set the shape using `n_classes` with batch size set to `None`.\n",
    " * Name the TensorFlow placeholder \"y\" using the TensorFlow `name` parameter in the [TF Placeholder](https://www.tensorflow.org/api_docs/python/tf/placeholder).\n",
    "* Implement `neural_net_keep_prob_input`\n",
    " * Return a [TF Placeholder](https://www.tensorflow.org/api_docs/python/tf/placeholder) for dropout keep probability.\n",
    " * Name the TensorFlow placeholder \"keep_prob\" using the TensorFlow `name` parameter in the [TF Placeholder](https://www.tensorflow.org/api_docs/python/tf/placeholder).\n",
    "\n",
    "These names will be used at the end of the project to load your saved model.\n",
    "\n",
    "Note: `None` for shapes in TensorFlow allow for a dynamic size."
   ]
  },
  {
   "cell_type": "code",
   "execution_count": 8,
   "metadata": {
    "collapsed": false
   },
   "outputs": [
    {
     "name": "stdout",
     "output_type": "stream",
     "text": [
      "Image Input Tests Passed.\n",
      "Label Input Tests Passed.\n",
      "Keep Prob Tests Passed.\n"
     ]
    }
   ],
   "source": [
    "import tensorflow as tf\n",
    "\n",
    "def neural_net_image_input(image_shape):\n",
    "    \"\"\"\n",
    "    Return a Tensor for a batch of image input\n",
    "    : image_shape: Shape of the images\n",
    "    : return: Tensor for image input.\n",
    "    \"\"\"\n",
    "    # TODO: Implement Function\n",
    "    x = tf.placeholder(tf.float32, [None, image_shape[0], image_shape[1], image_shape[2]], name=\"x\")\n",
    "\n",
    "    return x\n",
    "\n",
    "\n",
    "def neural_net_label_input(n_classes):\n",
    "    \"\"\"\n",
    "    Return a Tensor for a batch of label input\n",
    "    : n_classes: Number of classes\n",
    "    : return: Tensor for label input.\n",
    "    \"\"\"\n",
    "    # TODO: Implement Function\n",
    "    y = tf.placeholder(tf.int32, [None, n_classes], name = \"y\")\n",
    "\n",
    "    return y\n",
    "\n",
    "\n",
    "def neural_net_keep_prob_input():\n",
    "    \"\"\"\n",
    "    Return a Tensor for keep probability\n",
    "    : return: Tensor for keep probability.\n",
    "    \"\"\"\n",
    "    # TODO: Implement Function\n",
    "    \n",
    "    keep_prob = tf.placeholder(tf.float32, name= \"keep_prob\")\n",
    "\n",
    "    return keep_prob\n",
    "\n",
    "\n",
    "\"\"\"\n",
    "DON'T MODIFY ANYTHING IN THIS CELL THAT IS BELOW THIS LINE\n",
    "\"\"\"\n",
    "tf.reset_default_graph()\n",
    "tests.test_nn_image_inputs(neural_net_image_input)\n",
    "tests.test_nn_label_inputs(neural_net_label_input)\n",
    "tests.test_nn_keep_prob_inputs(neural_net_keep_prob_input)"
   ]
  },
  {
   "cell_type": "markdown",
   "metadata": {},
   "source": [
    "### Convolution and Max Pooling Layer\n",
    "Convolution layers have a lot of success with images. For this code cell, you should implement the function `conv2d_maxpool` to apply convolution then max pooling:\n",
    "* Create the weight and bias using `conv_ksize`, `conv_num_outputs` and the shape of `x_tensor`.\n",
    "* Apply a convolution to `x_tensor` using weight and `conv_strides`.\n",
    " * We recommend you use same padding, but you're welcome to use any padding.\n",
    "* Add bias\n",
    "* Add a nonlinear activation to the convolution.\n",
    "* Apply Max Pooling using `pool_ksize` and `pool_strides`.\n",
    " * We recommend you use same padding, but you're welcome to use any padding.\n",
    "\n",
    "**Note:** You **can't** use [TensorFlow Layers](https://www.tensorflow.org/api_docs/python/tf/layers) or [TensorFlow Layers (contrib)](https://www.tensorflow.org/api_guides/python/contrib.layers) for **this** layer, but you can still use TensorFlow's [Neural Network](https://www.tensorflow.org/api_docs/python/tf/nn) package. You may still use the shortcut option for all the **other** layers.\n",
    "\n",
    "** Hint: **\n",
    "\n",
    "When unpacking values as an argument in Python, look into the [unpacking](https://docs.python.org/3/tutorial/controlflow.html#unpacking-argument-lists) operator. "
   ]
  },
  {
   "cell_type": "code",
   "execution_count": 9,
   "metadata": {
    "collapsed": false
   },
   "outputs": [
    {
     "name": "stdout",
     "output_type": "stream",
     "text": [
      "Tests Passed\n"
     ]
    }
   ],
   "source": [
    "import math\n",
    "\n",
    "def conv2d_maxpool(x_tensor, conv_num_outputs, conv_ksize, conv_strides, pool_ksize, pool_strides):\n",
    "    \"\"\"\n",
    "    Apply convolution then max pooling to x_tensor\n",
    "    :param x_tensor: TensorFlow Tensor\n",
    "    :param conv_num_outputs: Number of outputs for the convolutional layer xxx\n",
    "    :param conv_ksize: kernal size 2-D Tuple for the convolutional layer\n",
    "    :param conv_strides: Stride 2-D Tuple for convolution\n",
    "    :param pool_ksize: kernal size 2-D Tuple for pool\n",
    "    :param pool_strides: Stride 2-D Tuple for pool\n",
    "    : return: A tensor that represents convolution and max pooling of x_tensor\n",
    "    \"\"\"\n",
    "    # TODO: Implement Function    \n",
    "    #input_depth = x_tensor.get_shape().as_list()\n",
    "    #filter_shape = [conv_ksize[0], conv_ksize[1], input_depth[3], conv_num_outputs]\n",
    "    #print(filter_shape)\n",
    "    \n",
    "    #weights = tf.Variable(tf.truncated_normal(shape,0,0,1))\n",
    "    #filter_weights = tf.Variable(tf.truncated_normal(filter_shape)) # (height, width, input_depth, output_depth)\n",
    "    #filter_bias = tf.Variable(tf.zeros(conv_num_outputs))\n",
    "\n",
    "    #cstrides = [1, conv_strides[0], conv_strides[1], 1] # (batch, height, width, depth)\n",
    "    #cksize = [1, conv_ksize[0], conv_ksize[1], 1] # (batch, height, width, depth)\n",
    "    #padding = 'SAME'\n",
    "    #conv_layer = tf.nn.conv2d(x_tensor, filter_weights, cstrides, padding) #+ filter_bias\n",
    "        \n",
    "    #pstrides = [1, pool_strides[0], pool_strides[1], 1] # (batch, height, width, depth)\n",
    "    #pksize = [1, pool_ksize[0], pool_ksize[1], 1] # (batch, height, width, depth)\n",
    "\n",
    "    #conv_layer = tf.nn.bias_add(conv_layer, filter_bias) #tf.nn.bias_add(conv_layer, filter_bias)\n",
    "    #conv_layer = tf.nn.relu(conv_layer)\n",
    "    # Apply Max Pooling\n",
    "    #conv_layer = tf.nn.max_pool(\n",
    "    #    conv_layer,\n",
    "    #    ksize=pksize,\n",
    "    #    strides=pstrides,\n",
    "    #    padding=padding)\n",
    "        \n",
    "    F_W = tf.Variable(tf.truncated_normal([*conv_ksize, x_tensor.get_shape().as_list()[-1], \n",
    "                                           conv_num_outputs], stddev=np.random.randn(conv_num_outputs) / math.sqrt(conv_num_outputs))) # 1/conv_num_outputs\n",
    "    F_b = tf.Variable(tf.zeros([conv_num_outputs]))\n",
    "    conv_layer = tf.nn.conv2d(x_tensor, F_W, strides=[1, *conv_strides, 1], padding='SAME')\n",
    "    # Add bias\n",
    "    conv_layer = tf.nn.bias_add(conv_layer, F_b)\n",
    "    # Apply activation function\n",
    "    conv_layer = tf.nn.elu(conv_layer)\n",
    "    \n",
    "    #pool = tf.nn.max_pool(conv_layer, ksize=[1, 2, 2, 1], strides=[1, *pool_strides, 1], padding='SAME')\n",
    "    pool = tf.nn.max_pool(conv_layer, ksize=[1, *pool_ksize, 1], strides=[1, *pool_strides, 1], padding='SAME')\n",
    "        \n",
    "    return pool\n",
    "\n",
    "\n",
    "\"\"\"\n",
    "DON'T MODIFY ANYTHING IN THIS CELL THAT IS BELOW THIS LINE\n",
    "\"\"\"\n",
    "tests.test_con_pool(conv2d_maxpool)"
   ]
  },
  {
   "cell_type": "markdown",
   "metadata": {},
   "source": [
    "### Flatten Layer\n",
    "Implement the `flatten` function to change the dimension of `x_tensor` from a 4-D tensor to a 2-D tensor.  The output should be the shape (*Batch Size*, *Flattened Image Size*). Shortcut option: you can use classes from the [TensorFlow Layers](https://www.tensorflow.org/api_docs/python/tf/layers) or [TensorFlow Layers (contrib)](https://www.tensorflow.org/api_guides/python/contrib.layers) packages for this layer. For more of a challenge, only use other TensorFlow packages."
   ]
  },
  {
   "cell_type": "code",
   "execution_count": 10,
   "metadata": {
    "collapsed": false
   },
   "outputs": [
    {
     "name": "stdout",
     "output_type": "stream",
     "text": [
      "Tests Passed\n"
     ]
    }
   ],
   "source": [
    "#import numpy\n",
    "\n",
    "def flatten(x_tensor):\n",
    "    \"\"\"\n",
    "    Flatten x_tensor to (Batch Size, Flattened Image Size)\n",
    "    : x_tensor: A tensor of size (Batch Size, ...), where ... are the image dimensions.\n",
    "    : return: A tensor of size (Batch Size, Flattened Image Size).\n",
    "    \"\"\"\n",
    "    # TODO: Implement Function\n",
    "    #image_flat = tf.contrib.layers.flatten(x_tensor)\n",
    "    #source: https://medium.com/@waleedka/traffic-sign-recognition-with-tensorflow-629dffc391a6\n",
    "    \n",
    "    #return image_flat\n",
    "\n",
    "    flat_shape = np.prod(x_tensor.get_shape().as_list()[1:])\n",
    "    return tf.reshape(x_tensor,[-1,flat_shape])\n",
    "\n",
    "\"\"\"\n",
    "DON'T MODIFY ANYTHING IN THIS CELL THAT IS BELOW THIS LINE\n",
    "\"\"\"\n",
    "tests.test_flatten(flatten)"
   ]
  },
  {
   "cell_type": "markdown",
   "metadata": {},
   "source": [
    "### Fully-Connected Layer\n",
    "Implement the `fully_conn` function to apply a fully connected layer to `x_tensor` with the shape (*Batch Size*, *num_outputs*). Shortcut option: you can use classes from the [TensorFlow Layers](https://www.tensorflow.org/api_docs/python/tf/layers) or [TensorFlow Layers (contrib)](https://www.tensorflow.org/api_guides/python/contrib.layers) packages for this layer. For more of a challenge, only use other TensorFlow packages."
   ]
  },
  {
   "cell_type": "code",
   "execution_count": 11,
   "metadata": {
    "collapsed": false
   },
   "outputs": [
    {
     "name": "stdout",
     "output_type": "stream",
     "text": [
      "Tests Passed\n"
     ]
    }
   ],
   "source": [
    "def fully_conn(x_tensor, num_outputs):\n",
    "    \"\"\"\n",
    "    Apply a fully connected layer to x_tensor using weight and bias\n",
    "    : x_tensor: A 2-D tensor where the first dimension is batch size.\n",
    "    : num_outputs: The number of output that the new tensor should be.\n",
    "    : return: A 2-D tensor where the second dimension is num_outputs.\n",
    "    \"\"\"\n",
    "    # TODO: Implement Function\n",
    "    \n",
    "    # Fully connected layer\n",
    "    fc = tf.contrib.layers.fully_connected(flatten(x_tensor), num_outputs, tf.nn.relu)\n",
    "    #source: https://medium.com/@waleedka/traffic-sign-recognition-with-tensorflow-629dffc391a6\n",
    "\n",
    "    return fc\n",
    "\n",
    "\"\"\"\n",
    "DON'T MODIFY ANYTHING IN THIS CELL THAT IS BELOW THIS LINE\n",
    "\"\"\"\n",
    "tests.test_fully_conn(fully_conn)"
   ]
  },
  {
   "cell_type": "markdown",
   "metadata": {},
   "source": [
    "### Output Layer\n",
    "Implement the `output` function to apply a fully connected layer to `x_tensor` with the shape (*Batch Size*, *num_outputs*). Shortcut option: you can use classes from the [TensorFlow Layers](https://www.tensorflow.org/api_docs/python/tf/layers) or [TensorFlow Layers (contrib)](https://www.tensorflow.org/api_guides/python/contrib.layers) packages for this layer. For more of a challenge, only use other TensorFlow packages.\n",
    "\n",
    "**Note:** Activation, softmax, or cross entropy should **not** be applied to this."
   ]
  },
  {
   "cell_type": "code",
   "execution_count": 12,
   "metadata": {
    "collapsed": false
   },
   "outputs": [
    {
     "name": "stdout",
     "output_type": "stream",
     "text": [
      "Tests Passed\n"
     ]
    }
   ],
   "source": [
    "def output(x_tensor, num_outputs):\n",
    "    \"\"\"\n",
    "    Apply a output layer to x_tensor using weight and bias\n",
    "    : x_tensor: A 2-D tensor where the first dimension is batch size.\n",
    "    : num_outputs: The number of output that the new tensor should be.\n",
    "    : return: A 2-D tensor where the second dimension is num_outputs.\n",
    "    \"\"\"\n",
    "    # TODO: Implement Function\n",
    "    out = tf.contrib.layers.fully_connected(flatten(x_tensor), num_outputs, tf.nn.relu)\n",
    "    #source: https://medium.com/@waleedka/traffic-sign-recognition-with-tensorflow-629dffc391a6\n",
    "    \n",
    "    return out\n",
    "\n",
    "\n",
    "\"\"\"\n",
    "DON'T MODIFY ANYTHING IN THIS CELL THAT IS BELOW THIS LINE\n",
    "\"\"\"\n",
    "tests.test_output(output)"
   ]
  },
  {
   "cell_type": "markdown",
   "metadata": {},
   "source": [
    "### Create Convolutional Model\n",
    "Implement the function `conv_net` to create a convolutional neural network model. The function takes in a batch of images, `x`, and outputs logits.  Use the layers you created above to create this model:\n",
    "\n",
    "* Apply 1, 2, or 3 Convolution and Max Pool layers\n",
    "* Apply a Flatten Layer\n",
    "* Apply 1, 2, or 3 Fully Connected Layers\n",
    "* Apply an Output Layer\n",
    "* Return the output\n",
    "* Apply [TensorFlow's Dropout](https://www.tensorflow.org/api_docs/python/tf/nn/dropout) to one or more layers in the model using `keep_prob`. "
   ]
  },
  {
   "cell_type": "code",
   "execution_count": 13,
   "metadata": {
    "collapsed": false
   },
   "outputs": [
    {
     "name": "stdout",
     "output_type": "stream",
     "text": [
      "Neural Network Built!\n"
     ]
    }
   ],
   "source": [
    "def conv_net(x, keep_prob):\n",
    "    \"\"\"\n",
    "    Create a convolutional neural network model\n",
    "    : x: Placeholder tensor that holds image data.\n",
    "    : keep_prob: Placeholder tensor that hold dropout keep probability.\n",
    "    : return: Tensor that represents logits\n",
    "    \"\"\"\n",
    "    # TODO: Apply 1, 2, or 3 Convolution and Max Pool layers\n",
    "    #    Play around with different number of outputs, kernel size and stride\n",
    "    # Function Definition from Above:\n",
    "    #    conv2d_maxpool(x_tensor, conv_num_outputs, conv_ksize, conv_strides, pool_ksize, pool_strides)\n",
    "    \n",
    "    #variables\n",
    "    conv_num_outputs = 32\n",
    "    n_classes = 10\n",
    "    conv_ksize = [3, 3]\n",
    "    conv_strides = [2, 2]\n",
    "    pool_ksize = [2, 2]\n",
    "    pool_strides = [2, 2]\n",
    "\n",
    "    # Layer 1 \n",
    "    conv = conv2d_maxpool(x, conv_num_outputs, conv_ksize, conv_strides, pool_ksize, pool_strides)\n",
    "\n",
    "    ## Layer 2 \n",
    "    conv = conv2d_maxpool(conv, conv_num_outputs*2, conv_ksize, conv_strides, pool_ksize, pool_strides)\n",
    "\n",
    "    ## Layer 3 \n",
    "    conv = conv2d_maxpool(conv, conv_num_outputs*4, conv_ksize, conv_strides, pool_ksize, pool_strides)\n",
    "\n",
    "    #model_drop = tf.nn.dropout(conv, keep_prob)\n",
    "    \n",
    "    # TODO: Apply a Flatten Layer\n",
    "    # Function Definition from Above:\n",
    "    #   flatten(x_tensor)\n",
    "    #image_flat = flatten(model_drop)\n",
    "    image_flat = flatten(conv)\n",
    "    \n",
    "    # TODO: Apply 1, 2, or 3 Fully Connected Layers\n",
    "    #    Play around with different number of outputs\n",
    "    # Function Definition from Above:\n",
    "    #   fully_conn(x_tensor, num_outputs)\n",
    "    fc_output1 = 512\n",
    "    fc = fully_conn(image_flat, fc_output1)    \n",
    "    fc_output2 = 256\n",
    "    fc = fully_conn(fc, fc_output2)    \n",
    "    fc_output3 = 128\n",
    "    full_con3 = fully_conn(fc, fc_output3)\n",
    "    fc = tf.nn.dropout(fc, keep_prob)\n",
    "    \n",
    "    # TODO: Apply an Output Layer\n",
    "    #    Set this to the number of classes\n",
    "    # Function Definition from Above:\n",
    "    #   output(x_tensor, num_outputs)\n",
    "    num_outputs = 10\n",
    "    fc_output = output(fc, num_outputs)\n",
    "    \n",
    "    # TODO: return output\n",
    "    return fc_output\n",
    "\n",
    "\n",
    "\"\"\"\n",
    "DON'T MODIFY ANYTHING IN THIS CELL THAT IS BELOW THIS LINE\n",
    "\"\"\"\n",
    "\n",
    "##############################\n",
    "## Build the Neural Network ##\n",
    "##############################\n",
    "\n",
    "# Remove previous weights, bias, inputs, etc..\n",
    "tf.reset_default_graph()\n",
    "\n",
    "# Inputs\n",
    "x = neural_net_image_input((32, 32, 3))\n",
    "y = neural_net_label_input(10)\n",
    "keep_prob = neural_net_keep_prob_input()\n",
    "\n",
    "# Model\n",
    "logits = conv_net(x, keep_prob)\n",
    "\n",
    "# Name logits Tensor, so that is can be loaded from disk after training\n",
    "logits = tf.identity(logits, name='logits')\n",
    "\n",
    "# Loss and Optimizer\n",
    "cost = tf.reduce_mean(tf.nn.softmax_cross_entropy_with_logits(logits=logits, labels=y))\n",
    "optimizer = tf.train.AdamOptimizer(learning_rate = 0.001).minimize(cost)\n",
    "\n",
    "# Accuracy\n",
    "correct_pred = tf.equal(tf.argmax(logits, 1), tf.argmax(y, 1))\n",
    "accuracy = tf.reduce_mean(tf.cast(correct_pred, tf.float32), name='accuracy')\n",
    "\n",
    "tests.test_conv_net(conv_net)"
   ]
  },
  {
   "cell_type": "markdown",
   "metadata": {},
   "source": [
    "## Train the Neural Network\n",
    "### Single Optimization\n",
    "Implement the function `train_neural_network` to do a single optimization.  The optimization should use `optimizer` to optimize in `session` with a `feed_dict` of the following:\n",
    "* `x` for image input\n",
    "* `y` for labels\n",
    "* `keep_prob` for keep probability for dropout\n",
    "\n",
    "This function will be called for each batch, so `tf.global_variables_initializer()` has already been called.\n",
    "\n",
    "Note: Nothing needs to be returned. This function is only optimizing the neural network."
   ]
  },
  {
   "cell_type": "code",
   "execution_count": 14,
   "metadata": {
    "collapsed": false
   },
   "outputs": [
    {
     "name": "stdout",
     "output_type": "stream",
     "text": [
      "Tests Passed\n"
     ]
    }
   ],
   "source": [
    "def train_neural_network(session, optimizer, keep_probability, feature_batch, label_batch):\n",
    "    \"\"\"\n",
    "    Optimize the session on a batch of images and labels\n",
    "    : session: Current TensorFlow session\n",
    "    : optimizer: TensorFlow optimizer function\n",
    "    : keep_probability: keep probability\n",
    "    : feature_batch: Batch of Numpy image data\n",
    "    : label_batch: Batch of Numpy label data\n",
    "    \"\"\"\n",
    "    # TODO: Implement Function\n",
    "    \n",
    "    session.run(optimizer, feed_dict={x:feature_batch, y:label_batch, keep_prob:keep_probability})\n",
    "    \n",
    "    pass\n",
    "\n",
    "\n",
    "\"\"\"\n",
    "DON'T MODIFY ANYTHING IN THIS CELL THAT IS BELOW THIS LINE\n",
    "\"\"\"\n",
    "tests.test_train_nn(train_neural_network)"
   ]
  },
  {
   "cell_type": "markdown",
   "metadata": {},
   "source": [
    "### Show Stats\n",
    "Implement the function `print_stats` to print loss and validation accuracy.  Use the global variables `valid_features` and `valid_labels` to calculate validation accuracy.  Use a keep probability of `1.0` to calculate the loss and validation accuracy."
   ]
  },
  {
   "cell_type": "code",
   "execution_count": 15,
   "metadata": {
    "collapsed": false
   },
   "outputs": [],
   "source": [
    "def print_stats(session, feature_batch, label_batch, cost, accuracy):\n",
    "    \"\"\"\n",
    "    Print information about loss and validation accuracy\n",
    "    : session: Current TensorFlow session\n",
    "    : feature_batch: Batch of Numpy image data\n",
    "    : label_batch: Batch of Numpy label data\n",
    "    : cost: TensorFlow cost function\n",
    "    : accuracy: TensorFlow accuracy function\n",
    "    \"\"\"\n",
    "\n",
    "    # TODO: Implement Function\n",
    "    loss = sess.run(cost, feed_dict={x: feature_batch, y: label_batch, keep_prob: 1.0})\n",
    "    \n",
    "    valid_acc = sess.run(accuracy, feed_dict={x: valid_features, y: valid_labels, keep_prob: 1.0})\n",
    "\n",
    "    print('Loss: {:>10.4f} Accuracy: {:.4f}'.format(loss,valid_acc))\n",
    "    pass"
   ]
  },
  {
   "cell_type": "markdown",
   "metadata": {},
   "source": [
    "### Hyperparameters\n",
    "Tune the following parameters:\n",
    "* Set `epochs` to the number of iterations until the network stops learning or start overfitting\n",
    "* Set `batch_size` to the highest number that your machine has memory for.  Most people set them to common sizes of memory:\n",
    " * 64\n",
    " * 128\n",
    " * 256\n",
    " * ...\n",
    "* Set `keep_probability` to the probability of keeping a node using dropout"
   ]
  },
  {
   "cell_type": "code",
   "execution_count": 16,
   "metadata": {
    "collapsed": true
   },
   "outputs": [],
   "source": [
    "# TODO: Tune Parameters\n",
    "epochs = 50\n",
    "batch_size = 128\n",
    "keep_probability = 0.9"
   ]
  },
  {
   "cell_type": "markdown",
   "metadata": {},
   "source": [
    "### Train on a Single CIFAR-10 Batch\n",
    "Instead of training the neural network on all the CIFAR-10 batches of data, let's use a single batch. This should save time while you iterate on the model to get a better accuracy.  Once the final validation accuracy is 50% or greater, run the model on all the data in the next section."
   ]
  },
  {
   "cell_type": "code",
   "execution_count": 17,
   "metadata": {
    "collapsed": false
   },
   "outputs": [
    {
     "name": "stdout",
     "output_type": "stream",
     "text": [
      "Checking the Training on a Single Batch...\n",
      "Epoch  1, CIFAR-10 Batch 1:  Loss:     2.2109 Accuracy: 0.2702\n",
      "Epoch  2, CIFAR-10 Batch 1:  Loss:     1.8949 Accuracy: 0.3502\n",
      "Epoch  3, CIFAR-10 Batch 1:  Loss:     1.7818 Accuracy: 0.3796\n",
      "Epoch  4, CIFAR-10 Batch 1:  Loss:     1.5975 Accuracy: 0.4166\n",
      "Epoch  5, CIFAR-10 Batch 1:  Loss:     1.4810 Accuracy: 0.4336\n",
      "Epoch  6, CIFAR-10 Batch 1:  Loss:     1.3408 Accuracy: 0.4568\n",
      "Epoch  7, CIFAR-10 Batch 1:  Loss:     1.2842 Accuracy: 0.4518\n",
      "Epoch  8, CIFAR-10 Batch 1:  Loss:     1.2787 Accuracy: 0.4394\n",
      "Epoch  9, CIFAR-10 Batch 1:  Loss:     1.0938 Accuracy: 0.4668\n",
      "Epoch 10, CIFAR-10 Batch 1:  Loss:     0.9301 Accuracy: 0.4806\n",
      "Epoch 11, CIFAR-10 Batch 1:  Loss:     0.8289 Accuracy: 0.4968\n",
      "Epoch 12, CIFAR-10 Batch 1:  Loss:     0.7876 Accuracy: 0.4870\n",
      "Epoch 13, CIFAR-10 Batch 1:  Loss:     0.7021 Accuracy: 0.4930\n",
      "Epoch 14, CIFAR-10 Batch 1:  Loss:     0.6714 Accuracy: 0.4942\n",
      "Epoch 15, CIFAR-10 Batch 1:  Loss:     0.6749 Accuracy: 0.4792\n",
      "Epoch 16, CIFAR-10 Batch 1:  Loss:     0.6578 Accuracy: 0.4670\n",
      "Epoch 17, CIFAR-10 Batch 1:  Loss:     0.6384 Accuracy: 0.4828\n",
      "Epoch 18, CIFAR-10 Batch 1:  Loss:     0.6206 Accuracy: 0.4820\n",
      "Epoch 19, CIFAR-10 Batch 1:  Loss:     0.6191 Accuracy: 0.4924\n",
      "Epoch 20, CIFAR-10 Batch 1:  Loss:     0.5884 Accuracy: 0.4846\n",
      "Epoch 21, CIFAR-10 Batch 1:  Loss:     0.5610 Accuracy: 0.4928\n",
      "Epoch 22, CIFAR-10 Batch 1:  Loss:     0.5276 Accuracy: 0.4906\n",
      "Epoch 23, CIFAR-10 Batch 1:  Loss:     0.4792 Accuracy: 0.4956\n",
      "Epoch 24, CIFAR-10 Batch 1:  Loss:     0.4855 Accuracy: 0.4986\n",
      "Epoch 25, CIFAR-10 Batch 1:  Loss:     0.4750 Accuracy: 0.4856\n",
      "Epoch 26, CIFAR-10 Batch 1:  Loss:     0.4352 Accuracy: 0.4934\n",
      "Epoch 27, CIFAR-10 Batch 1:  Loss:     0.4478 Accuracy: 0.4984\n",
      "Epoch 28, CIFAR-10 Batch 1:  Loss:     0.4345 Accuracy: 0.5038\n",
      "Epoch 29, CIFAR-10 Batch 1:  Loss:     0.4138 Accuracy: 0.5182\n",
      "Epoch 30, CIFAR-10 Batch 1:  Loss:     0.4217 Accuracy: 0.5196\n",
      "Epoch 31, CIFAR-10 Batch 1:  Loss:     0.4285 Accuracy: 0.5146\n",
      "Epoch 32, CIFAR-10 Batch 1:  Loss:     0.4257 Accuracy: 0.5100\n",
      "Epoch 33, CIFAR-10 Batch 1:  Loss:     0.4156 Accuracy: 0.5106\n",
      "Epoch 34, CIFAR-10 Batch 1:  Loss:     0.4165 Accuracy: 0.5072\n",
      "Epoch 35, CIFAR-10 Batch 1:  Loss:     0.4137 Accuracy: 0.5148\n",
      "Epoch 36, CIFAR-10 Batch 1:  Loss:     0.4138 Accuracy: 0.5014\n",
      "Epoch 37, CIFAR-10 Batch 1:  Loss:     0.3811 Accuracy: 0.5078\n",
      "Epoch 38, CIFAR-10 Batch 1:  Loss:     0.3536 Accuracy: 0.5056\n",
      "Epoch 39, CIFAR-10 Batch 1:  Loss:     0.3733 Accuracy: 0.4976\n",
      "Epoch 40, CIFAR-10 Batch 1:  Loss:     0.3531 Accuracy: 0.4980\n",
      "Epoch 41, CIFAR-10 Batch 1:  Loss:     0.3492 Accuracy: 0.5002\n",
      "Epoch 42, CIFAR-10 Batch 1:  Loss:     0.3557 Accuracy: 0.4918\n",
      "Epoch 43, CIFAR-10 Batch 1:  Loss:     0.3487 Accuracy: 0.4954\n",
      "Epoch 44, CIFAR-10 Batch 1:  Loss:     0.3486 Accuracy: 0.4852\n",
      "Epoch 45, CIFAR-10 Batch 1:  Loss:     0.3477 Accuracy: 0.4884\n",
      "Epoch 46, CIFAR-10 Batch 1:  Loss:     0.3510 Accuracy: 0.4892\n",
      "Epoch 47, CIFAR-10 Batch 1:  Loss:     0.3485 Accuracy: 0.4888\n",
      "Epoch 48, CIFAR-10 Batch 1:  Loss:     0.3501 Accuracy: 0.4806\n",
      "Epoch 49, CIFAR-10 Batch 1:  Loss:     0.3489 Accuracy: 0.4868\n",
      "Epoch 50, CIFAR-10 Batch 1:  Loss:     0.3523 Accuracy: 0.5022\n"
     ]
    }
   ],
   "source": [
    "\"\"\"\n",
    "DON'T MODIFY ANYTHING IN THIS CELL\n",
    "\"\"\"\n",
    "print('Checking the Training on a Single Batch...')\n",
    "with tf.Session() as sess:\n",
    "    # Initializing the variables\n",
    "    sess.run(tf.global_variables_initializer())\n",
    "    \n",
    "    # Training cycle\n",
    "    for epoch in range(epochs):\n",
    "        batch_i = 1\n",
    "        for batch_features, batch_labels in helper.load_preprocess_training_batch(batch_i, batch_size):\n",
    "            train_neural_network(sess, optimizer, keep_probability, batch_features, batch_labels)\n",
    "        print('Epoch {:>2}, CIFAR-10 Batch {}:  '.format(epoch + 1, batch_i), end='')\n",
    "        print_stats(sess, batch_features, batch_labels, cost, accuracy)"
   ]
  },
  {
   "cell_type": "markdown",
   "metadata": {},
   "source": [
    "### Fully Train the Model\n",
    "Now that you got a good accuracy with a single CIFAR-10 batch, try it with all five batches."
   ]
  },
  {
   "cell_type": "code",
   "execution_count": 18,
   "metadata": {
    "collapsed": false
   },
   "outputs": [
    {
     "name": "stdout",
     "output_type": "stream",
     "text": [
      "Training...\n",
      "Epoch  1, CIFAR-10 Batch 1:  Loss:     2.1279 Accuracy: 0.2804\n",
      "Epoch  1, CIFAR-10 Batch 2:  Loss:     1.9381 Accuracy: 0.3260\n",
      "Epoch  1, CIFAR-10 Batch 3:  Loss:     1.6607 Accuracy: 0.3574\n",
      "Epoch  1, CIFAR-10 Batch 4:  Loss:     1.7465 Accuracy: 0.3964\n",
      "Epoch  1, CIFAR-10 Batch 5:  Loss:     1.6977 Accuracy: 0.4406\n",
      "Epoch  2, CIFAR-10 Batch 1:  Loss:     1.5352 Accuracy: 0.4900\n",
      "Epoch  2, CIFAR-10 Batch 2:  Loss:     1.2168 Accuracy: 0.4962\n",
      "Epoch  2, CIFAR-10 Batch 3:  Loss:     1.2120 Accuracy: 0.5208\n",
      "Epoch  2, CIFAR-10 Batch 4:  Loss:     1.0396 Accuracy: 0.5418\n",
      "Epoch  2, CIFAR-10 Batch 5:  Loss:     1.1826 Accuracy: 0.5580\n",
      "Epoch  3, CIFAR-10 Batch 1:  Loss:     1.2779 Accuracy: 0.5518\n",
      "Epoch  3, CIFAR-10 Batch 2:  Loss:     0.9466 Accuracy: 0.5416\n",
      "Epoch  3, CIFAR-10 Batch 3:  Loss:     0.9510 Accuracy: 0.5698\n",
      "Epoch  3, CIFAR-10 Batch 4:  Loss:     0.8244 Accuracy: 0.5722\n",
      "Epoch  3, CIFAR-10 Batch 5:  Loss:     0.9764 Accuracy: 0.5870\n",
      "Epoch  4, CIFAR-10 Batch 1:  Loss:     1.0038 Accuracy: 0.5856\n",
      "Epoch  4, CIFAR-10 Batch 2:  Loss:     0.8025 Accuracy: 0.5856\n",
      "Epoch  4, CIFAR-10 Batch 3:  Loss:     0.7783 Accuracy: 0.5906\n",
      "Epoch  4, CIFAR-10 Batch 4:  Loss:     0.6544 Accuracy: 0.5924\n",
      "Epoch  4, CIFAR-10 Batch 5:  Loss:     0.7804 Accuracy: 0.6086\n",
      "Epoch  5, CIFAR-10 Batch 1:  Loss:     0.8472 Accuracy: 0.6050\n",
      "Epoch  5, CIFAR-10 Batch 2:  Loss:     0.6499 Accuracy: 0.6016\n",
      "Epoch  5, CIFAR-10 Batch 3:  Loss:     0.6089 Accuracy: 0.5988\n",
      "Epoch  5, CIFAR-10 Batch 4:  Loss:     0.5342 Accuracy: 0.6002\n",
      "Epoch  5, CIFAR-10 Batch 5:  Loss:     0.6770 Accuracy: 0.6154\n",
      "Epoch  6, CIFAR-10 Batch 1:  Loss:     0.6980 Accuracy: 0.6172\n",
      "Epoch  6, CIFAR-10 Batch 2:  Loss:     0.5204 Accuracy: 0.6114\n",
      "Epoch  6, CIFAR-10 Batch 3:  Loss:     0.5156 Accuracy: 0.6014\n",
      "Epoch  6, CIFAR-10 Batch 4:  Loss:     0.4709 Accuracy: 0.5982\n",
      "Epoch  6, CIFAR-10 Batch 5:  Loss:     0.5658 Accuracy: 0.6196\n",
      "Epoch  7, CIFAR-10 Batch 1:  Loss:     0.5550 Accuracy: 0.6260\n",
      "Epoch  7, CIFAR-10 Batch 2:  Loss:     0.4190 Accuracy: 0.6226\n",
      "Epoch  7, CIFAR-10 Batch 3:  Loss:     0.4345 Accuracy: 0.6024\n",
      "Epoch  7, CIFAR-10 Batch 4:  Loss:     0.4072 Accuracy: 0.6040\n",
      "Epoch  7, CIFAR-10 Batch 5:  Loss:     0.4584 Accuracy: 0.6252\n",
      "Epoch  8, CIFAR-10 Batch 1:  Loss:     0.4891 Accuracy: 0.6200\n",
      "Epoch  8, CIFAR-10 Batch 2:  Loss:     0.3540 Accuracy: 0.6164\n",
      "Epoch  8, CIFAR-10 Batch 3:  Loss:     0.3201 Accuracy: 0.6076\n",
      "Epoch  8, CIFAR-10 Batch 4:  Loss:     0.3876 Accuracy: 0.6094\n",
      "Epoch  8, CIFAR-10 Batch 5:  Loss:     0.3502 Accuracy: 0.6222\n",
      "Epoch  9, CIFAR-10 Batch 1:  Loss:     0.4188 Accuracy: 0.6236\n",
      "Epoch  9, CIFAR-10 Batch 2:  Loss:     0.3180 Accuracy: 0.6020\n",
      "Epoch  9, CIFAR-10 Batch 3:  Loss:     0.2600 Accuracy: 0.6148\n",
      "Epoch  9, CIFAR-10 Batch 4:  Loss:     0.3240 Accuracy: 0.6134\n",
      "Epoch  9, CIFAR-10 Batch 5:  Loss:     0.2723 Accuracy: 0.6224\n",
      "Epoch 10, CIFAR-10 Batch 1:  Loss:     0.3511 Accuracy: 0.6168\n",
      "Epoch 10, CIFAR-10 Batch 2:  Loss:     0.2628 Accuracy: 0.6002\n",
      "Epoch 10, CIFAR-10 Batch 3:  Loss:     0.2479 Accuracy: 0.6112\n",
      "Epoch 10, CIFAR-10 Batch 4:  Loss:     0.2769 Accuracy: 0.6200\n",
      "Epoch 10, CIFAR-10 Batch 5:  Loss:     0.2260 Accuracy: 0.6260\n",
      "Epoch 11, CIFAR-10 Batch 1:  Loss:     0.2948 Accuracy: 0.6216\n",
      "Epoch 11, CIFAR-10 Batch 2:  Loss:     0.2129 Accuracy: 0.5918\n",
      "Epoch 11, CIFAR-10 Batch 3:  Loss:     0.1999 Accuracy: 0.6102\n",
      "Epoch 11, CIFAR-10 Batch 4:  Loss:     0.2475 Accuracy: 0.6228\n",
      "Epoch 11, CIFAR-10 Batch 5:  Loss:     0.1589 Accuracy: 0.6260\n",
      "Epoch 12, CIFAR-10 Batch 1:  Loss:     0.2548 Accuracy: 0.6280\n",
      "Epoch 12, CIFAR-10 Batch 2:  Loss:     0.2097 Accuracy: 0.6000\n",
      "Epoch 12, CIFAR-10 Batch 3:  Loss:     0.1644 Accuracy: 0.6192\n",
      "Epoch 12, CIFAR-10 Batch 4:  Loss:     0.1733 Accuracy: 0.6280\n",
      "Epoch 12, CIFAR-10 Batch 5:  Loss:     0.1326 Accuracy: 0.6302\n",
      "Epoch 13, CIFAR-10 Batch 1:  Loss:     0.2439 Accuracy: 0.6306\n",
      "Epoch 13, CIFAR-10 Batch 2:  Loss:     0.1477 Accuracy: 0.6116\n",
      "Epoch 13, CIFAR-10 Batch 3:  Loss:     0.1398 Accuracy: 0.6258\n",
      "Epoch 13, CIFAR-10 Batch 4:  Loss:     0.1581 Accuracy: 0.6240\n",
      "Epoch 13, CIFAR-10 Batch 5:  Loss:     0.1331 Accuracy: 0.6236\n",
      "Epoch 14, CIFAR-10 Batch 1:  Loss:     0.2254 Accuracy: 0.6278\n",
      "Epoch 14, CIFAR-10 Batch 2:  Loss:     0.1174 Accuracy: 0.6234\n",
      "Epoch 14, CIFAR-10 Batch 3:  Loss:     0.1156 Accuracy: 0.6118\n",
      "Epoch 14, CIFAR-10 Batch 4:  Loss:     0.1406 Accuracy: 0.6100\n",
      "Epoch 14, CIFAR-10 Batch 5:  Loss:     0.0876 Accuracy: 0.6212\n",
      "Epoch 15, CIFAR-10 Batch 1:  Loss:     0.1888 Accuracy: 0.6238\n",
      "Epoch 15, CIFAR-10 Batch 2:  Loss:     0.0990 Accuracy: 0.6230\n",
      "Epoch 15, CIFAR-10 Batch 3:  Loss:     0.0991 Accuracy: 0.6112\n",
      "Epoch 15, CIFAR-10 Batch 4:  Loss:     0.1055 Accuracy: 0.6158\n",
      "Epoch 15, CIFAR-10 Batch 5:  Loss:     0.0599 Accuracy: 0.6282\n",
      "Epoch 16, CIFAR-10 Batch 1:  Loss:     0.1888 Accuracy: 0.6074\n",
      "Epoch 16, CIFAR-10 Batch 2:  Loss:     0.0877 Accuracy: 0.6122\n",
      "Epoch 16, CIFAR-10 Batch 3:  Loss:     0.0707 Accuracy: 0.6048\n",
      "Epoch 16, CIFAR-10 Batch 4:  Loss:     0.1352 Accuracy: 0.6116\n",
      "Epoch 16, CIFAR-10 Batch 5:  Loss:     0.0591 Accuracy: 0.6272\n",
      "Epoch 17, CIFAR-10 Batch 1:  Loss:     0.1062 Accuracy: 0.6214\n",
      "Epoch 17, CIFAR-10 Batch 2:  Loss:     0.0703 Accuracy: 0.6170\n",
      "Epoch 17, CIFAR-10 Batch 3:  Loss:     0.0571 Accuracy: 0.6062\n",
      "Epoch 17, CIFAR-10 Batch 4:  Loss:     0.1065 Accuracy: 0.6126\n",
      "Epoch 17, CIFAR-10 Batch 5:  Loss:     0.0498 Accuracy: 0.6210\n",
      "Epoch 18, CIFAR-10 Batch 1:  Loss:     0.0879 Accuracy: 0.6164\n",
      "Epoch 18, CIFAR-10 Batch 2:  Loss:     0.0585 Accuracy: 0.6226\n",
      "Epoch 18, CIFAR-10 Batch 3:  Loss:     0.0624 Accuracy: 0.6148\n",
      "Epoch 18, CIFAR-10 Batch 4:  Loss:     0.0707 Accuracy: 0.6068\n",
      "Epoch 18, CIFAR-10 Batch 5:  Loss:     0.0409 Accuracy: 0.6198\n",
      "Epoch 19, CIFAR-10 Batch 1:  Loss:     0.0899 Accuracy: 0.6140\n",
      "Epoch 19, CIFAR-10 Batch 2:  Loss:     0.0468 Accuracy: 0.6154\n",
      "Epoch 19, CIFAR-10 Batch 3:  Loss:     0.0456 Accuracy: 0.6104\n",
      "Epoch 19, CIFAR-10 Batch 4:  Loss:     0.0582 Accuracy: 0.6098\n",
      "Epoch 19, CIFAR-10 Batch 5:  Loss:     0.0422 Accuracy: 0.6214\n",
      "Epoch 20, CIFAR-10 Batch 1:  Loss:     0.0677 Accuracy: 0.6248\n",
      "Epoch 20, CIFAR-10 Batch 2:  Loss:     0.0412 Accuracy: 0.6166\n",
      "Epoch 20, CIFAR-10 Batch 3:  Loss:     0.0234 Accuracy: 0.6032\n",
      "Epoch 20, CIFAR-10 Batch 4:  Loss:     0.0420 Accuracy: 0.6172\n",
      "Epoch 20, CIFAR-10 Batch 5:  Loss:     0.0456 Accuracy: 0.6208\n",
      "Epoch 21, CIFAR-10 Batch 1:  Loss:     0.0421 Accuracy: 0.6194\n",
      "Epoch 21, CIFAR-10 Batch 2:  Loss:     0.0337 Accuracy: 0.6138\n",
      "Epoch 21, CIFAR-10 Batch 3:  Loss:     0.0340 Accuracy: 0.5996\n",
      "Epoch 21, CIFAR-10 Batch 4:  Loss:     0.0401 Accuracy: 0.6210\n",
      "Epoch 21, CIFAR-10 Batch 5:  Loss:     0.0273 Accuracy: 0.6104\n",
      "Epoch 22, CIFAR-10 Batch 1:  Loss:     0.0292 Accuracy: 0.6174\n",
      "Epoch 22, CIFAR-10 Batch 2:  Loss:     0.0317 Accuracy: 0.6066\n",
      "Epoch 22, CIFAR-10 Batch 3:  Loss:     0.0270 Accuracy: 0.6084\n",
      "Epoch 22, CIFAR-10 Batch 4:  Loss:     0.0404 Accuracy: 0.6166\n",
      "Epoch 22, CIFAR-10 Batch 5:  Loss:     0.0297 Accuracy: 0.6100\n",
      "Epoch 23, CIFAR-10 Batch 1:  Loss:     0.0243 Accuracy: 0.6150\n",
      "Epoch 23, CIFAR-10 Batch 2:  Loss:     0.0148 Accuracy: 0.6164\n",
      "Epoch 23, CIFAR-10 Batch 3:  Loss:     0.0256 Accuracy: 0.5882\n",
      "Epoch 23, CIFAR-10 Batch 4:  Loss:     0.0246 Accuracy: 0.6174\n",
      "Epoch 23, CIFAR-10 Batch 5:  Loss:     0.0226 Accuracy: 0.6276\n",
      "Epoch 24, CIFAR-10 Batch 1:  Loss:     0.0232 Accuracy: 0.6198\n",
      "Epoch 24, CIFAR-10 Batch 2:  Loss:     0.0258 Accuracy: 0.6096\n",
      "Epoch 24, CIFAR-10 Batch 3:  Loss:     0.0251 Accuracy: 0.6046\n",
      "Epoch 24, CIFAR-10 Batch 4:  Loss:     0.0362 Accuracy: 0.6100\n",
      "Epoch 24, CIFAR-10 Batch 5:  Loss:     0.0210 Accuracy: 0.6292\n",
      "Epoch 25, CIFAR-10 Batch 1:  Loss:     0.0197 Accuracy: 0.6126\n",
      "Epoch 25, CIFAR-10 Batch 2:  Loss:     0.0215 Accuracy: 0.6024\n",
      "Epoch 25, CIFAR-10 Batch 3:  Loss:     0.0160 Accuracy: 0.6066\n",
      "Epoch 25, CIFAR-10 Batch 4:  Loss:     0.0217 Accuracy: 0.6148\n",
      "Epoch 25, CIFAR-10 Batch 5:  Loss:     0.0246 Accuracy: 0.6298\n",
      "Epoch 26, CIFAR-10 Batch 1:  Loss:     0.0152 Accuracy: 0.6178\n",
      "Epoch 26, CIFAR-10 Batch 2:  Loss:     0.0136 Accuracy: 0.6056\n",
      "Epoch 26, CIFAR-10 Batch 3:  Loss:     0.0161 Accuracy: 0.6138\n",
      "Epoch 26, CIFAR-10 Batch 4:  Loss:     0.0128 Accuracy: 0.6124\n",
      "Epoch 26, CIFAR-10 Batch 5:  Loss:     0.0161 Accuracy: 0.6270\n",
      "Epoch 27, CIFAR-10 Batch 1:  Loss:     0.0078 Accuracy: 0.6158\n",
      "Epoch 27, CIFAR-10 Batch 2:  Loss:     0.0203 Accuracy: 0.5944\n",
      "Epoch 27, CIFAR-10 Batch 3:  Loss:     0.0203 Accuracy: 0.6114\n",
      "Epoch 27, CIFAR-10 Batch 4:  Loss:     0.0114 Accuracy: 0.6132\n",
      "Epoch 27, CIFAR-10 Batch 5:  Loss:     0.0226 Accuracy: 0.6238\n",
      "Epoch 28, CIFAR-10 Batch 1:  Loss:     0.0156 Accuracy: 0.6142\n",
      "Epoch 28, CIFAR-10 Batch 2:  Loss:     0.0215 Accuracy: 0.5958\n",
      "Epoch 28, CIFAR-10 Batch 3:  Loss:     0.0125 Accuracy: 0.6090\n",
      "Epoch 28, CIFAR-10 Batch 4:  Loss:     0.0089 Accuracy: 0.6112\n",
      "Epoch 28, CIFAR-10 Batch 5:  Loss:     0.0105 Accuracy: 0.6142\n",
      "Epoch 29, CIFAR-10 Batch 1:  Loss:     0.0106 Accuracy: 0.6138\n",
      "Epoch 29, CIFAR-10 Batch 2:  Loss:     0.0181 Accuracy: 0.5964\n",
      "Epoch 29, CIFAR-10 Batch 3:  Loss:     0.0113 Accuracy: 0.6194\n",
      "Epoch 29, CIFAR-10 Batch 4:  Loss:     0.0049 Accuracy: 0.6154\n",
      "Epoch 29, CIFAR-10 Batch 5:  Loss:     0.0141 Accuracy: 0.6172\n",
      "Epoch 30, CIFAR-10 Batch 1:  Loss:     0.0076 Accuracy: 0.6038\n",
      "Epoch 30, CIFAR-10 Batch 2:  Loss:     0.0091 Accuracy: 0.5906\n",
      "Epoch 30, CIFAR-10 Batch 3:  Loss:     0.0107 Accuracy: 0.6136\n",
      "Epoch 30, CIFAR-10 Batch 4:  Loss:     0.0072 Accuracy: 0.6102\n",
      "Epoch 30, CIFAR-10 Batch 5:  Loss:     0.0271 Accuracy: 0.6170\n",
      "Epoch 31, CIFAR-10 Batch 1:  Loss:     0.0087 Accuracy: 0.6098\n",
      "Epoch 31, CIFAR-10 Batch 2:  Loss:     0.0094 Accuracy: 0.5872\n",
      "Epoch 31, CIFAR-10 Batch 3:  Loss:     0.0109 Accuracy: 0.6048\n",
      "Epoch 31, CIFAR-10 Batch 4:  Loss:     0.0180 Accuracy: 0.6046\n",
      "Epoch 31, CIFAR-10 Batch 5:  Loss:     0.0114 Accuracy: 0.6140\n",
      "Epoch 32, CIFAR-10 Batch 1:  Loss:     0.0101 Accuracy: 0.5958\n",
      "Epoch 32, CIFAR-10 Batch 2:  Loss:     0.0079 Accuracy: 0.5932\n",
      "Epoch 32, CIFAR-10 Batch 3:  Loss:     0.0206 Accuracy: 0.6026\n",
      "Epoch 32, CIFAR-10 Batch 4:  Loss:     0.0137 Accuracy: 0.6002\n",
      "Epoch 32, CIFAR-10 Batch 5:  Loss:     0.0129 Accuracy: 0.6146\n",
      "Epoch 33, CIFAR-10 Batch 1:  Loss:     0.0298 Accuracy: 0.5830\n",
      "Epoch 33, CIFAR-10 Batch 2:  Loss:     0.0047 Accuracy: 0.5976\n",
      "Epoch 33, CIFAR-10 Batch 3:  Loss:     0.0148 Accuracy: 0.6130\n",
      "Epoch 33, CIFAR-10 Batch 4:  Loss:     0.0071 Accuracy: 0.5904\n",
      "Epoch 33, CIFAR-10 Batch 5:  Loss:     0.0066 Accuracy: 0.6088\n",
      "Epoch 34, CIFAR-10 Batch 1:  Loss:     0.0190 Accuracy: 0.5932\n",
      "Epoch 34, CIFAR-10 Batch 2:  Loss:     0.0099 Accuracy: 0.6074\n",
      "Epoch 34, CIFAR-10 Batch 3:  Loss:     0.0035 Accuracy: 0.6162\n",
      "Epoch 34, CIFAR-10 Batch 4:  Loss:     0.0064 Accuracy: 0.5924\n",
      "Epoch 34, CIFAR-10 Batch 5:  Loss:     0.0117 Accuracy: 0.6182\n",
      "Epoch 35, CIFAR-10 Batch 1:  Loss:     0.0154 Accuracy: 0.5964\n",
      "Epoch 35, CIFAR-10 Batch 2:  Loss:     0.0175 Accuracy: 0.6192\n",
      "Epoch 35, CIFAR-10 Batch 3:  Loss:     0.0238 Accuracy: 0.6232\n",
      "Epoch 35, CIFAR-10 Batch 4:  Loss:     0.0122 Accuracy: 0.6038\n",
      "Epoch 35, CIFAR-10 Batch 5:  Loss:     0.0046 Accuracy: 0.6186\n",
      "Epoch 36, CIFAR-10 Batch 1:  Loss:     0.0087 Accuracy: 0.5984\n",
      "Epoch 36, CIFAR-10 Batch 2:  Loss:     0.0130 Accuracy: 0.6088\n",
      "Epoch 36, CIFAR-10 Batch 3:  Loss:     0.0088 Accuracy: 0.6064\n",
      "Epoch 36, CIFAR-10 Batch 4:  Loss:     0.0111 Accuracy: 0.6070\n",
      "Epoch 36, CIFAR-10 Batch 5:  Loss:     0.0053 Accuracy: 0.6138\n",
      "Epoch 37, CIFAR-10 Batch 1:  Loss:     0.0096 Accuracy: 0.6080\n",
      "Epoch 37, CIFAR-10 Batch 2:  Loss:     0.0048 Accuracy: 0.6218\n",
      "Epoch 37, CIFAR-10 Batch 3:  Loss:     0.0099 Accuracy: 0.6152\n",
      "Epoch 37, CIFAR-10 Batch 4:  Loss:     0.0086 Accuracy: 0.5954\n",
      "Epoch 37, CIFAR-10 Batch 5:  Loss:     0.0049 Accuracy: 0.6194\n",
      "Epoch 38, CIFAR-10 Batch 1:  Loss:     0.0095 Accuracy: 0.5944\n",
      "Epoch 38, CIFAR-10 Batch 2:  Loss:     0.0074 Accuracy: 0.6230\n",
      "Epoch 38, CIFAR-10 Batch 3:  Loss:     0.0063 Accuracy: 0.6174\n",
      "Epoch 38, CIFAR-10 Batch 4:  Loss:     0.0026 Accuracy: 0.5954\n",
      "Epoch 38, CIFAR-10 Batch 5:  Loss:     0.0109 Accuracy: 0.6214\n",
      "Epoch 39, CIFAR-10 Batch 1:  Loss:     0.0055 Accuracy: 0.6148\n",
      "Epoch 39, CIFAR-10 Batch 2:  Loss:     0.0055 Accuracy: 0.6272\n",
      "Epoch 39, CIFAR-10 Batch 3:  Loss:     0.0071 Accuracy: 0.6164\n",
      "Epoch 39, CIFAR-10 Batch 4:  Loss:     0.0026 Accuracy: 0.6102\n",
      "Epoch 39, CIFAR-10 Batch 5:  Loss:     0.0036 Accuracy: 0.6198\n",
      "Epoch 40, CIFAR-10 Batch 1:  Loss:     0.0180 Accuracy: 0.5970\n",
      "Epoch 40, CIFAR-10 Batch 2:  Loss:     0.0046 Accuracy: 0.6130\n",
      "Epoch 40, CIFAR-10 Batch 3:  Loss:     0.0043 Accuracy: 0.6222\n",
      "Epoch 40, CIFAR-10 Batch 4:  Loss:     0.0046 Accuracy: 0.6044\n",
      "Epoch 40, CIFAR-10 Batch 5:  Loss:     0.0033 Accuracy: 0.6170\n",
      "Epoch 41, CIFAR-10 Batch 1:  Loss:     0.0093 Accuracy: 0.6134\n",
      "Epoch 41, CIFAR-10 Batch 2:  Loss:     0.0067 Accuracy: 0.6158\n",
      "Epoch 41, CIFAR-10 Batch 3:  Loss:     0.0068 Accuracy: 0.6174\n",
      "Epoch 41, CIFAR-10 Batch 4:  Loss:     0.0041 Accuracy: 0.5998\n",
      "Epoch 41, CIFAR-10 Batch 5:  Loss:     0.0081 Accuracy: 0.6190\n",
      "Epoch 42, CIFAR-10 Batch 1:  Loss:     0.0069 Accuracy: 0.5940\n",
      "Epoch 42, CIFAR-10 Batch 2:  Loss:     0.0077 Accuracy: 0.6200\n",
      "Epoch 42, CIFAR-10 Batch 3:  Loss:     0.0031 Accuracy: 0.6252\n",
      "Epoch 42, CIFAR-10 Batch 4:  Loss:     0.0117 Accuracy: 0.6106\n",
      "Epoch 42, CIFAR-10 Batch 5:  Loss:     0.0033 Accuracy: 0.6176\n",
      "Epoch 43, CIFAR-10 Batch 1:  Loss:     0.0080 Accuracy: 0.6100\n",
      "Epoch 43, CIFAR-10 Batch 2:  Loss:     0.0208 Accuracy: 0.6240\n",
      "Epoch 43, CIFAR-10 Batch 3:  Loss:     0.0079 Accuracy: 0.6152\n",
      "Epoch 43, CIFAR-10 Batch 4:  Loss:     0.0062 Accuracy: 0.6242\n",
      "Epoch 43, CIFAR-10 Batch 5:  Loss:     0.0254 Accuracy: 0.6290\n",
      "Epoch 44, CIFAR-10 Batch 1:  Loss:     0.0022 Accuracy: 0.6188\n",
      "Epoch 44, CIFAR-10 Batch 2:  Loss:     0.0092 Accuracy: 0.6168\n",
      "Epoch 44, CIFAR-10 Batch 3:  Loss:     0.0029 Accuracy: 0.6270\n",
      "Epoch 44, CIFAR-10 Batch 4:  Loss:     0.0020 Accuracy: 0.6266\n",
      "Epoch 44, CIFAR-10 Batch 5:  Loss:     0.0054 Accuracy: 0.6278\n",
      "Epoch 45, CIFAR-10 Batch 1:  Loss:     0.0039 Accuracy: 0.6134\n",
      "Epoch 45, CIFAR-10 Batch 2:  Loss:     0.0503 Accuracy: 0.6164\n",
      "Epoch 45, CIFAR-10 Batch 3:  Loss:     0.0026 Accuracy: 0.6232\n",
      "Epoch 45, CIFAR-10 Batch 4:  Loss:     0.0009 Accuracy: 0.6132\n",
      "Epoch 45, CIFAR-10 Batch 5:  Loss:     0.0055 Accuracy: 0.6166\n",
      "Epoch 46, CIFAR-10 Batch 1:  Loss:     0.0035 Accuracy: 0.6156\n",
      "Epoch 46, CIFAR-10 Batch 2:  Loss:     0.0066 Accuracy: 0.6264\n",
      "Epoch 46, CIFAR-10 Batch 3:  Loss:     0.0031 Accuracy: 0.6220\n",
      "Epoch 46, CIFAR-10 Batch 4:  Loss:     0.0041 Accuracy: 0.6118\n",
      "Epoch 46, CIFAR-10 Batch 5:  Loss:     0.0041 Accuracy: 0.6226\n",
      "Epoch 47, CIFAR-10 Batch 1:  Loss:     0.0021 Accuracy: 0.6228\n",
      "Epoch 47, CIFAR-10 Batch 2:  Loss:     0.0024 Accuracy: 0.6176\n",
      "Epoch 47, CIFAR-10 Batch 3:  Loss:     0.0024 Accuracy: 0.6338\n",
      "Epoch 47, CIFAR-10 Batch 4:  Loss:     0.0026 Accuracy: 0.6062\n",
      "Epoch 47, CIFAR-10 Batch 5:  Loss:     0.0076 Accuracy: 0.6240\n",
      "Epoch 48, CIFAR-10 Batch 1:  Loss:     0.0070 Accuracy: 0.6348\n",
      "Epoch 48, CIFAR-10 Batch 2:  Loss:     0.0084 Accuracy: 0.6160\n",
      "Epoch 48, CIFAR-10 Batch 3:  Loss:     0.0055 Accuracy: 0.6276\n",
      "Epoch 48, CIFAR-10 Batch 4:  Loss:     0.0052 Accuracy: 0.6118\n",
      "Epoch 48, CIFAR-10 Batch 5:  Loss:     0.0051 Accuracy: 0.6254\n",
      "Epoch 49, CIFAR-10 Batch 1:  Loss:     0.0022 Accuracy: 0.6228\n",
      "Epoch 49, CIFAR-10 Batch 2:  Loss:     0.0010 Accuracy: 0.6234\n",
      "Epoch 49, CIFAR-10 Batch 3:  Loss:     0.0022 Accuracy: 0.6272\n",
      "Epoch 49, CIFAR-10 Batch 4:  Loss:     0.0047 Accuracy: 0.6174\n",
      "Epoch 49, CIFAR-10 Batch 5:  Loss:     0.0048 Accuracy: 0.6170\n",
      "Epoch 50, CIFAR-10 Batch 1:  Loss:     0.0045 Accuracy: 0.6246\n",
      "Epoch 50, CIFAR-10 Batch 2:  Loss:     0.0093 Accuracy: 0.6136\n",
      "Epoch 50, CIFAR-10 Batch 3:  Loss:     0.0026 Accuracy: 0.6186\n",
      "Epoch 50, CIFAR-10 Batch 4:  Loss:     0.0022 Accuracy: 0.6070\n",
      "Epoch 50, CIFAR-10 Batch 5:  Loss:     0.0015 Accuracy: 0.6204\n"
     ]
    }
   ],
   "source": [
    "\"\"\"\n",
    "DON'T MODIFY ANYTHING IN THIS CELL\n",
    "\"\"\"\n",
    "save_model_path = './image_classification'\n",
    "\n",
    "print('Training...')\n",
    "with tf.Session() as sess:\n",
    "    # Initializing the variables\n",
    "    sess.run(tf.global_variables_initializer())\n",
    "    \n",
    "    # Training cycle\n",
    "    for epoch in range(epochs):\n",
    "        # Loop over all batches\n",
    "        n_batches = 5\n",
    "        for batch_i in range(1, n_batches + 1):\n",
    "            for batch_features, batch_labels in helper.load_preprocess_training_batch(batch_i, batch_size):\n",
    "                train_neural_network(sess, optimizer, keep_probability, batch_features, batch_labels)\n",
    "            print('Epoch {:>2}, CIFAR-10 Batch {}:  '.format(epoch + 1, batch_i), end='')\n",
    "            print_stats(sess, batch_features, batch_labels, cost, accuracy)\n",
    "            \n",
    "    # Save Model\n",
    "    saver = tf.train.Saver()\n",
    "    save_path = saver.save(sess, save_model_path)"
   ]
  },
  {
   "cell_type": "markdown",
   "metadata": {},
   "source": [
    "# Checkpoint\n",
    "The model has been saved to disk.\n",
    "## Test Model\n",
    "Test your model against the test dataset.  This will be your final accuracy. You should have an accuracy greater than 50%. If you don't, keep tweaking the model architecture and parameters."
   ]
  },
  {
   "cell_type": "code",
   "execution_count": 20,
   "metadata": {
    "collapsed": false
   },
   "outputs": [
    {
     "name": "stdout",
     "output_type": "stream",
     "text": [
      "Testing Accuracy: 0.6228243670886076\n",
      "\n"
     ]
    },
    {
     "data": {
      "image/png": "[encoded data removed]",
      "text/plain": [
       "<matplotlib.figure.Figure at 0x1184f2f60>"
      ]
     },
     "metadata": {
      "image/png": {
       "height": 319,
       "width": 349
      }
     },
     "output_type": "display_data"
    }
   ],
   "source": [
    "\"\"\"\n",
    "DON'T MODIFY ANYTHING IN THIS CELL\n",
    "\"\"\"\n",
    "%matplotlib inline\n",
    "%config InlineBackend.figure_format = 'retina'\n",
    "\n",
    "import tensorflow as tf\n",
    "import pickle\n",
    "import helper\n",
    "import random\n",
    "\n",
    "# Set batch size if not already set\n",
    "try:\n",
    "    if batch_size:\n",
    "        pass\n",
    "except NameError:\n",
    "    batch_size = 64\n",
    "\n",
    "save_model_path = './image_classification'\n",
    "n_samples = 4\n",
    "top_n_predictions = 3\n",
    "\n",
    "def test_model():\n",
    "    \"\"\"\n",
    "    Test the saved model against the test dataset\n",
    "    \"\"\"\n",
    "\n",
    "    test_features, test_labels = pickle.load(open('preprocess_training.p', mode='rb'))\n",
    "    loaded_graph = tf.Graph()\n",
    "\n",
    "    with tf.Session(graph=loaded_graph) as sess:\n",
    "        # Load model\n",
    "        loader = tf.train.import_meta_graph(save_model_path + '.meta')\n",
    "        loader.restore(sess, save_model_path)\n",
    "\n",
    "        # Get Tensors from loaded model\n",
    "        loaded_x = loaded_graph.get_tensor_by_name('x:0')\n",
    "        loaded_y = loaded_graph.get_tensor_by_name('y:0')\n",
    "        loaded_keep_prob = loaded_graph.get_tensor_by_name('keep_prob:0')\n",
    "        loaded_logits = loaded_graph.get_tensor_by_name('logits:0')\n",
    "        loaded_acc = loaded_graph.get_tensor_by_name('accuracy:0')\n",
    "        \n",
    "        # Get accuracy in batches for memory limitations\n",
    "        test_batch_acc_total = 0\n",
    "        test_batch_count = 0\n",
    "        \n",
    "        for train_feature_batch, train_label_batch in helper.batch_features_labels(test_features, test_labels, batch_size):\n",
    "            test_batch_acc_total += sess.run(\n",
    "                loaded_acc,\n",
    "                feed_dict={loaded_x: train_feature_batch, loaded_y: train_label_batch, loaded_keep_prob: 1.0})\n",
    "            test_batch_count += 1\n",
    "\n",
    "        print('Testing Accuracy: {}\\n'.format(test_batch_acc_total/test_batch_count))\n",
    "\n",
    "        # Print Random Samples\n",
    "        random_test_features, random_test_labels = tuple(zip(*random.sample(list(zip(test_features, test_labels)), n_samples)))\n",
    "        random_test_predictions = sess.run(\n",
    "            tf.nn.top_k(tf.nn.softmax(loaded_logits), top_n_predictions),\n",
    "            feed_dict={loaded_x: random_test_features, loaded_y: random_test_labels, loaded_keep_prob: 1.0})\n",
    "        helper.display_image_predictions(random_test_features, random_test_labels, random_test_predictions)\n",
    "\n",
    "\n",
    "test_model()"
   ]
  },
  {
   "cell_type": "markdown",
   "metadata": {},
   "source": [
    "## Why 50-80% Accuracy?\n",
    "You might be wondering why you can't get an accuracy any higher. First things first, 50% isn't bad for a simple CNN.  Pure guessing would get you 10% accuracy. That's because there are many more techniques that can be applied to your model and we recemmond that once you are done with this project, you explore!\n",
    "\n",
    "## Submitting This Project\n",
    "When submitting this project, make sure to run all the cells before saving the notebook.  Save the notebook file as \"image_classification.ipynb\" and save it as a HTML file under \"File\" -> \"Download as\".  Include the \"helper.py\" and \"problem_unittests.py\" files in your submission."
   ]
  }
 ],
 "metadata": {
  "anaconda-cloud": {},
  "kernelspec": {
   "display_name": "Python 3",
   "language": "python",
   "name": "python3"
  },
  "language_info": {
   "codemirror_mode": {
    "name": "ipython",
    "version": 3
   },
   "file_extension": ".py",
   "mimetype": "text/x-python",
   "name": "python",
   "nbconvert_exporter": "python",
   "pygments_lexer": "ipython3",
   "version": "3.6.0"
  }
 },
 "nbformat": 4,
 "nbformat_minor": 0
}
